{
 "cells": [
  {
   "cell_type": "code",
   "execution_count": 11,
   "metadata": {},
   "outputs": [],
   "source": [
    "import pandas as pd\n",
    "from pandas import DataFrame\n",
    "import networkx as nx\n",
    "import matplotlib.pyplot as plt\n",
    "import collections"
   ]
  },
  {
   "cell_type": "code",
   "execution_count": 2,
   "metadata": {},
   "outputs": [],
   "source": [
    "df_wiki_info = pd.read_csv('yagoWikipediaInfo_fa.tsv', sep='\\t')"
   ]
  },
  {
   "cell_type": "code",
   "execution_count": 3,
   "metadata": {},
   "outputs": [],
   "source": [
    "G = nx.Graph()"
   ]
  },
  {
   "cell_type": "code",
   "execution_count": 4,
   "metadata": {},
   "outputs": [],
   "source": [
    "for i in range (len(df_wiki_info)):\n",
    "    \n",
    "    row = df_wiki_info.iloc[i, :]\n",
    "    G.add_edge(row[1], row[3])\n",
    "    G[row[1]][row[3]]['predicate'] = row[2]"
   ]
  },
  {
   "cell_type": "code",
   "execution_count": 5,
   "metadata": {},
   "outputs": [
    {
     "name": "stdout",
     "output_type": "stream",
     "text": [
      "Number of edges: 3496397\n"
     ]
    }
   ],
   "source": [
    "#Number of edges\n",
    "E = G.number_of_edges()\n",
    "print('Number of edges:', E)"
   ]
  },
  {
   "cell_type": "code",
   "execution_count": 6,
   "metadata": {},
   "outputs": [
    {
     "name": "stdout",
     "output_type": "stream",
     "text": [
      "Number of nodes: 929570\n"
     ]
    }
   ],
   "source": [
    "#Number of nodes\n",
    "V = G.number_of_nodes()\n",
    "print('Number of nodes:', V)"
   ]
  },
  {
   "cell_type": "code",
   "execution_count": 7,
   "metadata": {},
   "outputs": [
    {
     "name": "stdout",
     "output_type": "stream",
     "text": [
      "Graph density: 8.092580034470046e-06\n"
     ]
    }
   ],
   "source": [
    "#Graph density\n",
    "print('Graph density:', nx.classes.function.density(G))    "
   ]
  },
  {
   "cell_type": "code",
   "execution_count": 8,
   "metadata": {},
   "outputs": [
    {
     "name": "stdout",
     "output_type": "stream",
     "text": [
      "Average degree: 7.522611530062287\n"
     ]
    }
   ],
   "source": [
    "#Average degree\n",
    "avg_degree = 2*E/V\n",
    "print('Average degree:', avg_degree)"
   ]
  },
  {
   "cell_type": "code",
   "execution_count": null,
   "metadata": {},
   "outputs": [],
   "source": [
    "#Global clustering co-efficient\n",
    "global_clustering_coefficients = nx.clustering(G)\n",
    "df_gcc = DataFrame(columns={'node', 'clustering_coefficient'})\n",
    "for node, cc in global_clustering_coefficients.items():\n",
    "    df_gcc = df_gcc.append({'node': node, 'clustering_coefficient': cc}, ignore_index=True)"
   ]
  },
  {
   "cell_type": "code",
   "execution_count": null,
   "metadata": {},
   "outputs": [
    {
     "name": "stdout",
     "output_type": "stream",
     "text": [
      "Number of subgraphs: 43\n"
     ]
    }
   ],
   "source": [
    "#Diameter\n",
    "subgraph_list = []\n",
    "\n",
    "for conn_component in nx.connected_components(G):\n",
    "    subgraph_list.append(conn_component)\n",
    "\n",
    "print('Number of subgraphs: {}'.format(len(subgraph_list)))\n",
    "\n",
    "for i in range (len(subgraph_list)):\n",
    "    subgraph = nx.Graph()\n",
    "    node_list = list(subgraph_list[i])\n",
    "    for node in node_list:\n",
    "        subgraph.add_edges_from(G.edges(node))\n",
    "    \n",
    "    print('Subgraph_{} diameter : {}'.format(i+1, nx.diameter(subgraph)))"
   ]
  },
  {
   "cell_type": "code",
   "execution_count": 10,
   "metadata": {},
   "outputs": [
    {
     "data": {
      "image/png": "[encoded data removed]",
      "text/plain": [
       "<Figure size 432x288 with 1 Axes>"
      ]
     },
     "metadata": {
      "needs_background": "light"
     },
     "output_type": "display_data"
    },
    {
     "data": {
      "text/plain": [
       "<Figure size 1080x1080 with 0 Axes>"
      ]
     },
     "metadata": {},
     "output_type": "display_data"
    },
    {
     "name": "stdout",
     "output_type": "stream",
     "text": [
      "Max degree: 60473\n",
      "Counter({1: 462768, 5: 59551, 7: 58790, 6: 53329, 4: 51002, 3: 39041, 8: 31612, 9: 23869, 10: 19492, 11: 16808, 12: 12090, 2: 11073, 13: 10074, 14: 8364, 15: 6950, 16: 5781, 17: 5062, 18: 4344, 19: 3718, 20: 3237, 21: 2874, 22: 2476, 23: 2217, 24: 2030, 25: 1774, 26: 1601, 27: 1442, 28: 1298, 29: 1146, 31: 1046, 30: 1026, 32: 960, 33: 871, 34: 773, 35: 758, 36: 664, 37: 664, 38: 643, 39: 564, 40: 543, 41: 524, 42: 493, 43: 460, 44: 417, 45: 408, 47: 378, 46: 357, 48: 356, 49: 335, 51: 299, 50: 294, 55: 288, 52: 276, 54: 262, 53: 244, 57: 239, 56: 229, 58: 222, 60: 216, 61: 207, 62: 207, 59: 204, 65: 194, 63: 187, 64: 178, 69: 175, 73: 164, 66: 160, 71: 153, 70: 147, 77: 144, 72: 142, 67: 139, 68: 138, 75: 126, 85: 124, 81: 122, 79: 121, 76: 120, 78: 119, 74: 118, 80: 112, 86: 104, 83: 102, 89: 101, 84: 99, 87: 98, 91: 92, 90: 91, 88: 90, 93: 90, 82: 89, 95: 78, 100: 78, 98: 75, 97: 72, 92: 70, 94: 69, 101: 68, 106: 68, 103: 67, 111: 66, 102: 62, 104: 61, 105: 61, 110: 60, 99: 59, 109: 59, 107: 57, 108: 56, 112: 55, 113: 54, 96: 53, 115: 52, 132: 50, 117: 49, 118: 49, 116: 48, 123: 48, 124: 47, 126: 46, 135: 46, 114: 45, 128: 45, 119: 44, 125: 43, 133: 43, 140: 43, 130: 42, 120: 41, 127: 41, 122: 40, 138: 39, 121: 38, 131: 37, 129: 36, 137: 35, 139: 34, 134: 32, 142: 32, 141: 31, 143: 31, 159: 30, 147: 29, 150: 29, 155: 29, 163: 29, 164: 29, 146: 28, 153: 28, 144: 27, 162: 27, 167: 27, 170: 27, 200: 27, 154: 26, 156: 26, 158: 26, 151: 25, 152: 25, 175: 25, 148: 24, 160: 24, 161: 24, 165: 24, 168: 24, 172: 24, 174: 24, 186: 24, 237: 24, 136: 23, 145: 23, 157: 23, 166: 23, 171: 22, 196: 22, 209: 22, 214: 22, 233: 22, 149: 21, 176: 21, 181: 21, 184: 21, 203: 21, 231: 21, 259: 21, 173: 20, 187: 20, 191: 20, 193: 20, 212: 20, 217: 20, 227: 20, 232: 20, 182: 19, 195: 19, 199: 19, 201: 19, 206: 19, 229: 19, 235: 19, 243: 19, 244: 19, 248: 19, 180: 18, 205: 18, 219: 18, 221: 18, 236: 18, 262: 18, 169: 17, 179: 17, 192: 17, 204: 17, 208: 17, 210: 17, 218: 17, 222: 17, 223: 17, 224: 17, 225: 17, 226: 17, 228: 17, 250: 17, 251: 17, 256: 17, 258: 17, 183: 16, 185: 16, 189: 16, 211: 16, 230: 16, 234: 16, 240: 16, 249: 16, 266: 16, 177: 15, 198: 15, 202: 15, 216: 15, 220: 15, 238: 15, 273: 15, 287: 15, 190: 14, 197: 14, 207: 14, 215: 14, 246: 14, 247: 14, 253: 14, 194: 13, 245: 13, 213: 12, 306: 12, 308: 12, 352: 12, 361: 12, 188: 11, 239: 11, 241: 11, 254: 11, 257: 11, 260: 11, 265: 11, 268: 11, 276: 11, 278: 11, 282: 11, 286: 11, 288: 11, 292: 11, 305: 11, 310: 11, 314: 11, 317: 11, 178: 10, 252: 10, 255: 10, 261: 10, 269: 10, 271: 10, 280: 10, 291: 10, 294: 10, 296: 10, 304: 10, 332: 10, 263: 9, 267: 9, 270: 9, 272: 9, 274: 9, 283: 9, 285: 9, 297: 9, 301: 9, 302: 9, 318: 9, 320: 9, 321: 9, 323: 9, 328: 9, 330: 9, 350: 9, 353: 9, 242: 8, 264: 8, 275: 8, 277: 8, 279: 8, 313: 8, 327: 8, 340: 8, 365: 8, 372: 8, 374: 8, 386: 8, 290: 7, 295: 7, 303: 7, 316: 7, 336: 7, 351: 7, 357: 7, 360: 7, 281: 6, 284: 6, 293: 6, 299: 6, 307: 6, 315: 6, 324: 6, 325: 6, 333: 6, 339: 6, 341: 6, 364: 6, 369: 6, 380: 6, 381: 6, 289: 5, 298: 5, 322: 5, 331: 5, 334: 5, 337: 5, 342: 5, 343: 5, 346: 5, 347: 5, 349: 5, 359: 5, 363: 5, 373: 5, 382: 5, 397: 5, 401: 5, 404: 5, 441: 5, 300: 4, 309: 4, 311: 4, 319: 4, 326: 4, 335: 4, 344: 4, 345: 4, 383: 4, 384: 4, 388: 4, 391: 4, 393: 4, 411: 4, 413: 4, 419: 4, 431: 4, 457: 4, 463: 4, 471: 4, 473: 4, 482: 4, 489: 4, 499: 4, 503: 4, 540: 4, 543: 4, 559: 4, 568: 4, 575: 4, 607: 4, 616: 4, 661: 4, 312: 3, 338: 3, 348: 3, 354: 3, 362: 3, 367: 3, 368: 3, 370: 3, 375: 3, 379: 3, 385: 3, 398: 3, 408: 3, 417: 3, 420: 3, 432: 3, 437: 3, 446: 3, 456: 3, 466: 3, 478: 3, 501: 3, 505: 3, 510: 3, 522: 3, 529: 3, 552: 3, 554: 3, 562: 3, 570: 3, 584: 3, 588: 3, 609: 3, 673: 3, 732: 3, 733: 3, 810: 3, 851: 3, 358: 2, 366: 2, 376: 2, 390: 2, 395: 2, 396: 2, 400: 2, 403: 2, 405: 2, 407: 2, 423: 2, 425: 2, 429: 2, 430: 2, 435: 2, 436: 2, 438: 2, 445: 2, 447: 2, 450: 2, 452: 2, 453: 2, 454: 2, 459: 2, 469: 2, 470: 2, 477: 2, 480: 2, 481: 2, 483: 2, 484: 2, 486: 2, 490: 2, 496: 2, 500: 2, 504: 2, 506: 2, 508: 2, 512: 2, 514: 2, 517: 2, 526: 2, 531: 2, 534: 2, 541: 2, 544: 2, 546: 2, 549: 2, 563: 2, 574: 2, 578: 2, 580: 2, 581: 2, 583: 2, 587: 2, 591: 2, 592: 2, 623: 2, 635: 2, 637: 2, 638: 2, 666: 2, 668: 2, 670: 2, 684: 2, 692: 2, 699: 2, 701: 2, 703: 2, 712: 2, 713: 2, 736: 2, 740: 2, 762: 2, 776: 2, 790: 2, 802: 2, 816: 2, 818: 2, 833: 2, 838: 2, 883: 2, 884: 2, 893: 2, 921: 2, 924: 2, 934: 2, 972: 2, 1004: 2, 1017: 2, 1128: 2, 1189: 2, 1199: 2, 1482: 2, 329: 1, 355: 1, 356: 1, 377: 1, 378: 1, 387: 1, 389: 1, 392: 1, 394: 1, 409: 1, 412: 1, 414: 1, 415: 1, 416: 1, 418: 1, 421: 1, 422: 1, 426: 1, 428: 1, 433: 1, 439: 1, 440: 1, 443: 1, 444: 1, 449: 1, 451: 1, 455: 1, 458: 1, 460: 1, 465: 1, 468: 1, 472: 1, 474: 1, 475: 1, 476: 1, 485: 1, 488: 1, 491: 1, 492: 1, 494: 1, 495: 1, 497: 1, 498: 1, 502: 1, 509: 1, 511: 1, 513: 1, 515: 1, 516: 1, 519: 1, 521: 1, 523: 1, 524: 1, 527: 1, 530: 1, 532: 1, 533: 1, 536: 1, 537: 1, 538: 1, 539: 1, 545: 1, 547: 1, 548: 1, 550: 1, 551: 1, 560: 1, 561: 1, 564: 1, 565: 1, 572: 1, 576: 1, 577: 1, 579: 1, 585: 1, 589: 1, 590: 1, 593: 1, 599: 1, 601: 1, 603: 1, 605: 1, 608: 1, 611: 1, 614: 1, 618: 1, 619: 1, 620: 1, 621: 1, 626: 1, 627: 1, 628: 1, 629: 1, 631: 1, 632: 1, 633: 1, 636: 1, 641: 1, 648: 1, 651: 1, 652: 1, 653: 1, 654: 1, 660: 1, 662: 1, 664: 1, 671: 1, 676: 1, 680: 1, 681: 1, 682: 1, 686: 1, 687: 1, 688: 1, 690: 1, 695: 1, 698: 1, 700: 1, 705: 1, 706: 1, 714: 1, 715: 1, 717: 1, 722: 1, 724: 1, 725: 1, 727: 1, 729: 1, 739: 1, 741: 1, 743: 1, 744: 1, 751: 1, 755: 1, 758: 1, 760: 1, 763: 1, 767: 1, 772: 1, 773: 1, 782: 1, 784: 1, 787: 1, 792: 1, 797: 1, 798: 1, 801: 1, 803: 1, 808: 1, 812: 1, 813: 1, 814: 1, 826: 1, 827: 1, 831: 1, 834: 1, 841: 1, 846: 1, 848: 1, 852: 1, 854: 1, 857: 1, 859: 1, 861: 1, 869: 1, 871: 1, 875: 1, 881: 1, 882: 1, 886: 1, 889: 1, 892: 1, 897: 1, 899: 1, 904: 1, 905: 1, 906: 1, 916: 1, 918: 1, 919: 1, 928: 1, 929: 1, 933: 1, 940: 1, 942: 1, 944: 1, 947: 1, 951: 1, 954: 1, 969: 1, 974: 1, 976: 1, 978: 1, 987: 1, 988: 1, 993: 1, 997: 1, 998: 1, 1001: 1, 1003: 1, 1005: 1, 1008: 1, 1010: 1, 1014: 1, 1018: 1, 1019: 1, 1020: 1, 1024: 1, 1028: 1, 1030: 1, 1032: 1, 1035: 1, 1039: 1, 1041: 1, 1042: 1, 1047: 1, 1055: 1, 1063: 1, 1078: 1, 1089: 1, 1092: 1, 1102: 1, 1104: 1, 1109: 1, 1113: 1, 1115: 1, 1116: 1, 1119: 1, 1133: 1, 1136: 1, 1137: 1, 1138: 1, 1140: 1, 1145: 1, 1147: 1, 1149: 1, 1155: 1, 1161: 1, 1167: 1, 1175: 1, 1180: 1, 1192: 1, 1194: 1, 1198: 1, 1214: 1, 1232: 1, 1236: 1, 1241: 1, 1246: 1, 1248: 1, 1254: 1, 1258: 1, 1259: 1, 1262: 1, 1267: 1, 1269: 1, 1278: 1, 1323: 1, 1331: 1, 1342: 1, 1346: 1, 1354: 1, 1363: 1, 1396: 1, 1398: 1, 1399: 1, 1406: 1, 1425: 1, 1438: 1, 1450: 1, 1459: 1, 1464: 1, 1491: 1, 1508: 1, 1542: 1, 1552: 1, 1572: 1, 1579: 1, 1583: 1, 1584: 1, 1590: 1, 1592: 1, 1593: 1, 1598: 1, 1600: 1, 1610: 1, 1630: 1, 1656: 1, 1660: 1, 1667: 1, 1695: 1, 1702: 1, 1722: 1, 1729: 1, 1743: 1, 1747: 1, 1776: 1, 1787: 1, 1812: 1, 1815: 1, 1820: 1, 1825: 1, 1846: 1, 1866: 1, 1896: 1, 1954: 1, 1973: 1, 1980: 1, 1983: 1, 2011: 1, 2030: 1, 2048: 1, 2053: 1, 2089: 1, 2112: 1, 2122: 1, 2142: 1, 2149: 1, 2173: 1, 2177: 1, 2186: 1, 2199: 1, 2222: 1, 2232: 1, 2283: 1, 2333: 1, 2356: 1, 2358: 1, 2376: 1, 2395: 1, 2495: 1, 2497: 1, 2507: 1, 2653: 1, 2680: 1, 2719: 1, 2754: 1, 2804: 1, 2821: 1, 2874: 1, 2987: 1, 2994: 1, 3004: 1, 3025: 1, 3029: 1, 3035: 1, 3133: 1, 3255: 1, 3333: 1, 3526: 1, 3531: 1, 3561: 1, 3692: 1, 3705: 1, 3728: 1, 3774: 1, 3812: 1, 3821: 1, 3866: 1, 3917: 1, 4007: 1, 4010: 1, 4022: 1, 4092: 1, 4177: 1, 4276: 1, 4299: 1, 4430: 1, 4455: 1, 4502: 1, 4516: 1, 4587: 1, 4698: 1, 4811: 1, 5029: 1, 5059: 1, 5075: 1, 5162: 1, 5411: 1, 5797: 1, 6003: 1, 6151: 1, 6243: 1, 6402: 1, 6941: 1, 7127: 1, 7181: 1, 7243: 1, 7727: 1, 7854: 1, 8249: 1, 8365: 1, 8561: 1, 8816: 1, 8895: 1, 10925: 1, 11355: 1, 12375: 1, 12621: 1, 13164: 1, 13250: 1, 15093: 1, 17330: 1, 17603: 1, 49849: 1, 60473: 1})\n"
     ]
    }
   ],
   "source": [
    "#Degree distribution\n",
    "degrees = [G.degree(n) for n in G.nodes()]\n",
    "degrees.sort()\n",
    "degree_distribution = collections.Counter(degrees)\n",
    "plt.hist(degrees, bins=max(degrees))\n",
    "plt.title('Degree distribution histogram')\n",
    "plt.xlabel('Degree')\n",
    "plt.ylabel('Number of nodes')\n",
    "plt.figure(figsize=(15,15))\n",
    "plt.show()\n",
    "print('Max degree: {}'.format(max(degrees)))\n",
    "print(degree_distribution)\n",
    "#for degree in degree_distribution:\n",
    "#    print('{} : {}'.format(degree, degree_distribution[degree]))"
   ]
  },
  {
   "cell_type": "code",
   "execution_count": 12,
   "metadata": {},
   "outputs": [
    {
     "data": {
      "image/png": "[encoded data removed]",
      "text/plain": [
       "<Figure size 432x288 with 1 Axes>"
      ]
     },
     "metadata": {
      "needs_background": "light"
     },
     "output_type": "display_data"
    },
    {
     "data": {
      "text/plain": [
       "<Figure size 1080x1080 with 0 Axes>"
      ]
     },
     "metadata": {},
     "output_type": "display_data"
    },
    {
     "name": "stdout",
     "output_type": "stream",
     "text": [
      "Predicate with maximum frequency: <linksTo>\n",
      "<hasWikipediaArticleLength> : 456309\n",
      "<hasWikipediaUrl> : 456309\n",
      "<linksTo> : 2583779\n"
     ]
    }
   ],
   "source": [
    "#Frequency distribution\n",
    "predicate_list = [c for a,b,c in G.edges.data('predicate')]\n",
    "freq_distribution = collections.Counter(predicate_list)\n",
    "plt.hist(predicate_list, bins=len(set(predicate_list)))\n",
    "plt.title('Frequency distribution histogram')\n",
    "plt.xlabel('Predicate')\n",
    "plt.ylabel('Number of edges')\n",
    "#for index,data in enumerate(predicate_list):\n",
    "#    plt.text(x=index, y =data+1, s=f'{data}', fontdict=dict(fontsize=20))\n",
    "plt.figure(figsize=(15,15))\n",
    "plt.show()\n",
    "print('Predicate with maximum frequency: {}'.format(max(predicate_list)))\n",
    "for predicate in freq_distribution:\n",
    "    print('{} : {}'.format(predicate, freq_distribution[predicate]))"
   ]
  },
  {
   "cell_type": "code",
   "execution_count": null,
   "metadata": {},
   "outputs": [],
   "source": [
    "options = {\n",
    "    'node_color': 'green',\n",
    "    'edge_color': 'black',\n",
    "    'node_size': 10,\n",
    "    'width': 0.1,\n",
    "    'alpha': 1,\n",
    "}\n",
    "plt.figure(figsize=(10,10))\n",
    "nx.draw(G, **options, with_labels=False)"
   ]
  }
 ],
 "metadata": {
  "kernelspec": {
   "display_name": "Python 3",
   "language": "python",
   "name": "python3"
  },
  "language_info": {
   "codemirror_mode": {
    "name": "ipython",
    "version": 3
   },
   "file_extension": ".py",
   "mimetype": "text/x-python",
   "name": "python",
   "nbconvert_exporter": "python",
   "pygments_lexer": "ipython3",
   "version": "3.7.4"
  }
 },
 "nbformat": 4,
 "nbformat_minor": 2
}
